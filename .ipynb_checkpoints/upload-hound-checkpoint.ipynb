{
 "cells": [
  {
   "cell_type": "code",
   "execution_count": 2,
   "metadata": {
    "collapsed": true
   },
   "outputs": [],
   "source": [
    "import csv, urllib2, json, datetime, dateutil\n",
    "from dateutil import parser, tz"
   ]
  },
  {
   "cell_type": "code",
   "execution_count": 3,
   "metadata": {
    "collapsed": true
   },
   "outputs": [],
   "source": [
    "url = 'http://fenceline.org/rodeo/hound_json.php'\n",
    "serial = 1\n",
    "name = 'Hound'\n",
    "offsetLoc = {'lat': 38.031616, 'lng': -122.263651}\n",
    "chemicalMap = {\n",
    "    'ben':'Benzene',\n",
    "    'tol':'Toluene',\n",
    "    'so2':'Sulfur_Dioxide',\n",
    "    'xyl':'Xylene',\n",
    "    'cs2':'Carbon_Disulfide',\n",
    "    'o3':'Ozone'}\n",
    "nonZeroDefault = ['ben','tol','so2','xyl','cs2']"
   ]
  },
  {
   "cell_type": "code",
   "execution_count": 4,
   "metadata": {
    "collapsed": false
   },
   "outputs": [],
   "source": [
    "def exec_ipynb(url):\n",
    "    import json, re, urllib2\n",
    "    nb = (urllib2.urlopen(url) if re.match(r'https?:', url) else open(url)).read()\n",
    "    jsonNb = json.loads(nb)\n",
    "    #check for the modified formatting of Jupyter Notebook v4\n",
    "    if(jsonNb['nbformat'] == 4):\n",
    "        exec '\\n'.join([''.join(cell['source']) for cell in jsonNb['cells'] if cell['cell_type'] == 'code']) in globals()\n",
    "    else:\n",
    "        exec '\\n'.join([''.join(cell['input']) for cell in jsonNb['worksheets'][0]['cells'] if cell['cell_type'] == 'code']) in globals()\n",
    "\n",
    "exec_ipynb('python-utils/esdr-library.ipynb')"
   ]
  },
  {
   "cell_type": "code",
   "execution_count": 5,
   "metadata": {
    "collapsed": false
   },
   "outputs": [],
   "source": [
    "# First time uploading, create a new client like so:\n",
    "\n",
    "#Esdr.save_client('esdr-auth-hound-uploader.json', 'Hound uploader for timemachine1')\n",
    "\n",
    "# and then follow the directions it prints, which include visiting esdr.cmucreatelab.org and creating\n",
    "# a client with given parameters, and also editing esdr-auth-baaqm-uploader.json to include your\n",
    "# username and password\n",
    "\n",
    "# Do not add esdr-auth-*.json to the git repo"
   ]
  },
  {
   "cell_type": "code",
   "execution_count": 6,
   "metadata": {
    "collapsed": false
   },
   "outputs": [
    {
     "data": {
      "text/plain": [
       "{u'created': u'2017-03-01T17:18:05.000Z',\n",
       " u'creatorUserId': 800,\n",
       " u'defaultChannelSpecs': {},\n",
       " u'description': u'Hound sensor operated by Argos Scientific',\n",
       " u'id': 64,\n",
       " u'modified': u'2017-03-01T17:18:05.000Z',\n",
       " u'name': u'hound',\n",
       " u'prettyName': u'hound',\n",
       " u'vendor': u'hound'}"
      ]
     },
     "execution_count": 6,
     "metadata": {},
     "output_type": "execute_result"
    }
   ],
   "source": [
    "esdr = Esdr('esdr-auth-hound-uploader.json')\n",
    "product = esdr.get_or_create_product('hound', 'hound', 'Hound sensor operated by Argos Scientific')\n",
    "product"
   ]
  },
  {
   "cell_type": "code",
   "execution_count": 7,
   "metadata": {
    "collapsed": false
   },
   "outputs": [],
   "source": [
    "def getEsdrFeed():\n",
    "    esdrDevice = esdr.get_or_create_device(product, serial, name)\n",
    "    feed = esdr.get_or_create_feed(esdrDevice, offsetLoc['lat'], offsetLoc['lng'])\n",
    "    return feed\n",
    "#getEsdrFeed()"
   ]
  },
  {
   "cell_type": "code",
   "execution_count": 8,
   "metadata": {
    "collapsed": false
   },
   "outputs": [],
   "source": [
    "def fetchHoundData():\n",
    "    req = urllib2.Request(url)\n",
    "    body = urllib2.urlopen(req).read()\n",
    "    data = json.loads(body)\n",
    "    return data[0]\n",
    "#data = fetchHoundData()"
   ]
  },
  {
   "cell_type": "code",
   "execution_count": 9,
   "metadata": {
    "collapsed": false
   },
   "outputs": [],
   "source": [
    "def dateStringToEpochTime(dateString):\n",
    "    timestamp = dateutil.parser.parse(dateString).replace(tzinfo=tz.gettz('America/Los_Angeles'))\n",
    "    epochTimestamp = (timestamp - datetime.datetime(1970, 1, 1, tzinfo=tz.tzutc())).total_seconds()\n",
    "    return epochTimestamp\n",
    "#dateStringToEpochTime(d['sampledate'])"
   ]
  },
  {
   "cell_type": "code",
   "execution_count": 20,
   "metadata": {
    "collapsed": false
   },
   "outputs": [],
   "source": [
    "def formatHoundData(data):\n",
    "    timestamp = dateStringToEpochTime(data.pop('sampledate'))\n",
    "    data.pop('actualdate')\n",
    "    esdrData = {\"channel_names\":[],\"data\":[[]]}\n",
    "    esdrData['data'][0].append(timestamp)\n",
    "    for datum in data:\n",
    "        #standardize chemical name\n",
    "        try:\n",
    "            channelName = chemicalMap[datum]\n",
    "        except KeyError:\n",
    "            channelName = datum\n",
    "        #standardize representation of non-detects\n",
    "        if datum in nonZeroDefault and data[datum] == '30':\n",
    "            data[datum] = 0\n",
    "        esdrData['channel_names'].append(channelName)\n",
    "        esdrData['data'][0].append(float(data[datum]))\n",
    "    return esdrData"
   ]
  },
  {
   "cell_type": "code",
   "execution_count": 21,
   "metadata": {
    "collapsed": false
   },
   "outputs": [
    {
     "data": {
      "text/plain": [
       "{'channel_names': [u'status',\n",
       "  u'signalstrength',\n",
       "  'Benzene',\n",
       "  'Ozone',\n",
       "  'Sulfur_Dioxide',\n",
       "  'Toluene',\n",
       "  'Xylene',\n",
       "  'Carbon_Disulfide'],\n",
       " 'data': [[1488499427.0, 0.0, 1925.0, 0.0, 111.333, 0.0, 0.0, 0.0, 0.0]]}"
      ]
     },
     "execution_count": 21,
     "metadata": {},
     "output_type": "execute_result"
    }
   ],
   "source": [
    "rawData = fetchHoundData()\n",
    "formatted = formatHoundData(rawData)\n",
    "feed = getEsdrFeed()\n",
    "esdr.upload(feed, formatted)"
   ]
  }
 ],
 "metadata": {
  "anaconda-cloud": {},
  "kernelspec": {
   "display_name": "Python [default]",
   "language": "python",
   "name": "python2"
  },
  "language_info": {
   "codemirror_mode": {
    "name": "ipython",
    "version": 2
   },
   "file_extension": ".py",
   "mimetype": "text/x-python",
   "name": "python",
   "nbconvert_exporter": "python",
   "pygments_lexer": "ipython2",
   "version": "2.7.12"
  }
 },
 "nbformat": 4,
 "nbformat_minor": 1
}
